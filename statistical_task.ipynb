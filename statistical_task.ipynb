{
  "nbformat": 4,
  "nbformat_minor": 0,
  "metadata": {
    "colab": {
      "provenance": []
    },
    "kernelspec": {
      "name": "python3",
      "display_name": "Python 3"
    },
    "language_info": {
      "name": "python"
    }
  },
  "cells": [
    {
      "cell_type": "code",
      "execution_count": 3,
      "metadata": {
        "colab": {
          "base_uri": "https://localhost:8080/"
        },
        "id": "jSHJj4FC-nrs",
        "outputId": "074e83c3-663c-45a1-d936-95b2e3602166"
      },
      "outputs": [
        {
          "output_type": "stream",
          "name": "stdout",
          "text": [
            "mean is: 21.88\n"
          ]
        }
      ],
      "source": [
        "# --- Mean Calculation ---\n",
        "# TODO: Calculate the mean of the numbers in the 'temperatures' list.\n",
        "#       Handle the case where the list is empty (return None or print a message).\n",
        "#       Print the mean using an f-string.\n",
        "# Your code here:\n",
        "temperatures = [23, 25, 20, 23, -5, 21, 18, 19, 24, 21,19, 24, 0,\n",
        "                20, 24, 55, 22, 50, 22, 20, 21, 22, 20, 25, 19,\n",
        "                22, 26, 23, 21, 23, 17, 20, 18]\n",
        "if temperatures:\n",
        "    mean_value=sum(temperatures)/len(temperatures)\n",
        "    print(f\"mean is: {mean_value:.2f}\")\n",
        "else:\n",
        "    print(\"None\")\n"
      ]
    },
    {
      "cell_type": "code",
      "source": [
        "# --- Median Calculation ---\n",
        "# TODO: Calculate the median of the numbers in the 'temperatures' list.\n",
        "#       Sort the 'numbers' list first.\n",
        "#       Handle both even and odd length lists.\n",
        "#       Print the median using an f-string.\n",
        "# Your code here:\n",
        "temperatures.sort()\n",
        "n=len(temperatures)\n",
        "m_index=n//2\n",
        "if n % 2 ==1 :\n",
        "    Mid_Value=temperatures[m_index]\n",
        "else:\n",
        "    Mid_Value=(temperatures[m_index] + temperatures[m_index-1])/2\n",
        "print(Mid_Value)\n",
        "\n"
      ],
      "metadata": {
        "colab": {
          "base_uri": "https://localhost:8080/"
        },
        "id": "n2-IGJPJ-_wM",
        "outputId": "0f6945ac-763b-49af-8b99-009ee9f3d162"
      },
      "execution_count": 9,
      "outputs": [
        {
          "output_type": "stream",
          "name": "stdout",
          "text": [
            "21\n"
          ]
        }
      ]
    },
    {
      "cell_type": "code",
      "source": [],
      "metadata": {
        "id": "wSTCwmM38rvN"
      },
      "execution_count": null,
      "outputs": []
    },
    {
      "cell_type": "code",
      "source": [
        "from collections import Counter\n",
        "if temperatures:\n",
        "  freq=Counter(temperatures)\n",
        "  mode_value=max(freq.values())\n",
        "  modes = [num for num, freq in freq.items() if freq == mode_value]\n",
        "  if len(modes) == len(temperatures):  # If all numbers appear once, no mode\n",
        "        print(\"There is no mode, all numbers appear only once.\")\n",
        "  else:\n",
        "        print(f\"The mode temperature is: {modes[0]}\")  # Return any one mode\n",
        "else:\n",
        "    print(\"The list is empty, cannot calculate mode.\")\n"
      ],
      "metadata": {
        "colab": {
          "base_uri": "https://localhost:8080/"
        },
        "id": "PXrvlZkN_-xR",
        "outputId": "5fdf728a-b59a-450d-d397-6536050aebec"
      },
      "execution_count": 10,
      "outputs": [
        {
          "output_type": "stream",
          "name": "stdout",
          "text": [
            "The mode temperature is: 20\n"
          ]
        }
      ]
    },
    {
      "cell_type": "code",
      "source": [
        "# --- Variance Calculation ---\n",
        "# TODO: Calculate the variance of the numbers in the 'temperatures' list.\n",
        "#       Use the formula for sample variance (divide by n-1 for sample, n for population).\n",
        "#       For this exercise, assume it's sample variance if list has more than 1 element, else return 0 if list has 0 or 1 element.\n",
        "#       Print the variance using an f-string.\n",
        "# Your code here:\n",
        "sum=0\n",
        "for i in temperatures:\n",
        "  sum+=(i-mean_value)**2\n",
        "var=sum/n\n",
        "print(\"variance is:\", var)"
      ],
      "metadata": {
        "colab": {
          "base_uri": "https://localhost:8080/"
        },
        "id": "hG2WFhH-95pO",
        "outputId": "73f18c15-586e-4c72-ce7d-f3a16f6d1e07"
      },
      "execution_count": 14,
      "outputs": [
        {
          "output_type": "stream",
          "name": "stdout",
          "text": [
            "variance is: 98.28833792470162\n"
          ]
        }
      ]
    },
    {
      "cell_type": "code",
      "source": [
        "# --- Standard Deviation Calculation ---\n",
        "# TODO: Calculate the standard deviation of the numbers in the 'temperatures' list.\n",
        "#       Take the square root of the variance calculated above.\n",
        "#       Print the standard deviation using an f-string.\n",
        "# Your code here:\n",
        "import cmath\n",
        "std=cmath.sqrt(var)\n",
        "print(std)"
      ],
      "metadata": {
        "colab": {
          "base_uri": "https://localhost:8080/"
        },
        "id": "12DmwwNf-w-d",
        "outputId": "32944a6a-930b-4d7e-cd0a-ac2ffcf08c20"
      },
      "execution_count": 16,
      "outputs": [
        {
          "output_type": "stream",
          "name": "stdout",
          "text": [
            "(9.914047504662342+0j)\n"
          ]
        }
      ]
    },
    {
      "cell_type": "code",
      "source": [
        "# --- Range Calculation ---\n",
        "# TODO: Calculate the range (difference between max and min) of the 'temperatures' list.\n",
        "#       Print the range using an f-string.\n",
        "# Your code here:\n",
        "range=max(temperatures)-min(temperatures)\n",
        "print(range)"
      ],
      "metadata": {
        "colab": {
          "base_uri": "https://localhost:8080/"
        },
        "id": "TA5ZiCLs_X7u",
        "outputId": "d3c6c989-97fd-470c-9326-244563eb16b2"
      },
      "execution_count": 17,
      "outputs": [
        {
          "output_type": "stream",
          "name": "stdout",
          "text": [
            "60\n"
          ]
        }
      ]
    },
    {
      "cell_type": "code",
      "source": [
        "# --- IQR Calculation ---\n",
        "# TODO: Calculate the Interquartile Range (IQR) of the 'temperatures' list.\n",
        "#       Use the percentile function you defined in Q1 or define a new one if needed.\n",
        "#       Calculate Q1 (25th percentile) and Q3 (75th percentile).\n",
        "#       IQR = Q3 - Q1\n",
        "#       Print the IQR using an f-string.\n",
        "# Your code here:\n",
        "import numpy as np\n",
        "Q3=np.quantile(temperatures,0.75)\n",
        "Q1=np.quantile(temperatures,0.25)\n",
        "IQR=Q3-Q1\n",
        "print(IQR)"
      ],
      "metadata": {
        "colab": {
          "base_uri": "https://localhost:8080/"
        },
        "id": "pmPqzhdN_eak",
        "outputId": "66fc1970-1224-40e5-9ac9-e4fa9718eabf"
      },
      "execution_count": 18,
      "outputs": [
        {
          "output_type": "stream",
          "name": "stdout",
          "text": [
            "3.0\n"
          ]
        }
      ]
    },
    {
      "cell_type": "code",
      "source": [
        "# --- Skewness Calculation ---\n",
        "# TODO: (Optional) Calculate the skewness of the 'temperatures' list.\n",
        "#       You can use a simple method for skewness calculation.\n",
        "#       Print the skewness using an f-string.\n",
        "# Your code here:\n",
        "from scipy.stats import skew\n",
        "skew=skew(temperatures)\n",
        "print(skew)"
      ],
      "metadata": {
        "colab": {
          "base_uri": "https://localhost:8080/"
        },
        "id": "v8oMq4rk_0_o",
        "outputId": "97752241-7fe1-4347-dc07-c7fea4b3a576"
      },
      "execution_count": 19,
      "outputs": [
        {
          "output_type": "stream",
          "name": "stdout",
          "text": [
            "0.8864658781156224\n"
          ]
        }
      ]
    },
    {
      "cell_type": "code",
      "source": [
        "# --- Kurtosis Calculation ---\n",
        "# TODO: Calculate the skewness of the 'temperatures' list.\n",
        "#       You can use a simple method for skewness calculation.\n",
        "#       Print the skewness using an f-string.\n",
        "# Your code here:\n",
        "from scipy.stats import kurtosis\n",
        "Kurtosis=kurtosis(temperatures)\n",
        "print(Kurtosis)"
      ],
      "metadata": {
        "colab": {
          "base_uri": "https://localhost:8080/"
        },
        "id": "-2MaRlNeCgwt",
        "outputId": "35c0832b-9cfc-4420-c9dc-71a179444c24"
      },
      "execution_count": 21,
      "outputs": [
        {
          "output_type": "stream",
          "name": "stdout",
          "text": [
            "5.098322593354414\n"
          ]
        }
      ]
    },
    {
      "cell_type": "code",
      "source": [
        "Q1=np.percentile(temperatures,25)\n",
        "Q3=np.percentile(temperatures,75)\n",
        "IQR=Q3-Q1\n",
        "print(Q1,\" \",Q3,\" \",IQR)"
      ],
      "metadata": {
        "colab": {
          "base_uri": "https://localhost:8080/"
        },
        "id": "hrtZSdpvC31w",
        "outputId": "3b12fc7e-a2cb-4d46-9c96-5ee911570fce"
      },
      "execution_count": 25,
      "outputs": [
        {
          "output_type": "stream",
          "name": "stdout",
          "text": [
            "20.0   23.0   3.0\n"
          ]
        }
      ]
    },
    {
      "cell_type": "code",
      "source": [
        "lower_bound=Q1-1.5*IQR\n",
        "upper_bound=Q3+1.5*IQR\n",
        "print(lower_bound,upper_bound)"
      ],
      "metadata": {
        "colab": {
          "base_uri": "https://localhost:8080/"
        },
        "id": "Vrr_581TCseu",
        "outputId": "47844ace-2d06-48ba-d07b-63badee55e00"
      },
      "execution_count": 26,
      "outputs": [
        {
          "output_type": "stream",
          "name": "stdout",
          "text": [
            "15.5 27.5\n"
          ]
        }
      ]
    }
  ]
}